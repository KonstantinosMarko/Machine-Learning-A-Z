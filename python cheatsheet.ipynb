{
 "cells": [
  {
   "cell_type": "code",
   "execution_count": null,
   "metadata": {
    "collapsed": true
   },
   "outputs": [],
   "source": [
    "mystr = 'konstantinos'\n",
    "\n",
    "mystr[0]\n",
    "mystr[-1]\n",
    "mystr[3:5]\n",
    "mystr[6:]"
   ]
  },
  {
   "cell_type": "code",
   "execution_count": 4,
   "metadata": {},
   "outputs": [
    {
     "data": {
      "text/plain": [
       "'    konstantinos    '"
      ]
     },
     "execution_count": 4,
     "metadata": {},
     "output_type": "execute_result"
    }
   ],
   "source": [
    "mystr.center(20)"
   ]
  },
  {
   "cell_type": "code",
   "execution_count": 5,
   "metadata": {},
   "outputs": [
    {
     "data": {
      "text/plain": [
       "2"
      ]
     },
     "execution_count": 5,
     "metadata": {},
     "output_type": "execute_result"
    }
   ],
   "source": [
    "mystr.find('n')"
   ]
  },
  {
   "cell_type": "code",
   "execution_count": 6,
   "metadata": {},
   "outputs": [
    {
     "data": {
      "text/plain": [
       "['kons', 'an', 'inos']"
      ]
     },
     "execution_count": 6,
     "metadata": {},
     "output_type": "execute_result"
    }
   ],
   "source": [
    "mystr.split('t')"
   ]
  },
  {
   "cell_type": "code",
   "execution_count": 1,
   "metadata": {},
   "outputs": [
    {
     "name": "stdout",
     "output_type": "stream",
     "text": [
      "['k', 'o', 'n', 's', 't', 'a', 'n', 't', 'i', 'n', 'o', 's']\n"
     ]
    }
   ],
   "source": [
    "mystr = 'konstantinos'\n",
    "\n",
    "mylist=[]\n",
    "for char in mystr:\n",
    "    mylist += char\n",
    "    \n",
    "print(mylist)    "
   ]
  },
  {
   "cell_type": "code",
   "execution_count": 9,
   "metadata": {},
   "outputs": [
    {
     "name": "stdout",
     "output_type": "stream",
     "text": [
      "Konstantinos is 26 years old.\n",
      "Konstantinos is 26 years old.\n"
     ]
    }
   ],
   "source": [
    "name = 'Konstantinos'\n",
    "age = 26\n",
    "\n",
    "print(name, 'is', age, 'years old.')\n",
    "print(\"%s is %d years old.\" % (name, age))"
   ]
  },
  {
   "cell_type": "code",
   "execution_count": 16,
   "metadata": {},
   "outputs": [
    {
     "data": {
      "text/plain": [
       "[1, 6, 7, 12, 16, 25]"
      ]
     },
     "execution_count": 16,
     "metadata": {},
     "output_type": "execute_result"
    }
   ],
   "source": [
    "#Lists\n",
    "\n",
    "cubes = [1, 6, 7, 12, 16]\n",
    "\n",
    "cubes.append(25)\n",
    "cubes[:]"
   ]
  },
  {
   "cell_type": "code",
   "execution_count": 17,
   "metadata": {},
   "outputs": [
    {
     "data": {
      "text/plain": [
       "[1, 6, 7, 12, 16, 25, 30]"
      ]
     },
     "execution_count": 17,
     "metadata": {},
     "output_type": "execute_result"
    }
   ],
   "source": [
    "cubes.append(3 * 10)\n",
    "cubes"
   ]
  },
  {
   "cell_type": "code",
   "execution_count": 1,
   "metadata": {},
   "outputs": [
    {
     "data": {
      "text/plain": [
       "[1, 3, 4, 3, 4, 7]"
      ]
     },
     "execution_count": 1,
     "metadata": {},
     "output_type": "execute_result"
    }
   ],
   "source": [
    "#Delete specific element from list\n",
    "\n",
    "a = [1, 2, 3, 4, 2, 3, 4, 2, 7, 2]\n",
    "a = [x for x in a if x != 2]\n",
    "a"
   ]
  },
  {
   "cell_type": "code",
   "execution_count": 10,
   "metadata": {},
   "outputs": [
    {
     "data": {
      "text/plain": [
       "['a', 'b', 'C', 'D', 'E']"
      ]
     },
     "execution_count": 10,
     "metadata": {},
     "output_type": "execute_result"
    }
   ],
   "source": [
    "letters = ['a', 'b', 'c']\n",
    "\n",
    "letters[2:5] = ['C', 'D', 'E']\n",
    "letters"
   ]
  },
  {
   "cell_type": "code",
   "execution_count": 11,
   "metadata": {},
   "outputs": [
    {
     "data": {
      "text/plain": [
       "['a', 'b']"
      ]
     },
     "execution_count": 11,
     "metadata": {},
     "output_type": "execute_result"
    }
   ],
   "source": [
    "letters[2:5] = []\n",
    "letters"
   ]
  },
  {
   "cell_type": "code",
   "execution_count": 12,
   "metadata": {},
   "outputs": [
    {
     "data": {
      "text/plain": [
       "['a', 'b', 'c']"
      ]
     },
     "execution_count": 12,
     "metadata": {},
     "output_type": "execute_result"
    }
   ],
   "source": [
    "letters.append('c')\n",
    "letters"
   ]
  },
  {
   "cell_type": "code",
   "execution_count": 26,
   "metadata": {},
   "outputs": [
    {
     "data": {
      "text/plain": [
       "['a', 'b', 'c', 'kkk']"
      ]
     },
     "execution_count": 26,
     "metadata": {},
     "output_type": "execute_result"
    }
   ],
   "source": [
    "letters.append(3 * 'k')\n",
    "letters"
   ]
  },
  {
   "cell_type": "code",
   "execution_count": 27,
   "metadata": {},
   "outputs": [
    {
     "data": {
      "text/plain": [
       "4"
      ]
     },
     "execution_count": 27,
     "metadata": {},
     "output_type": "execute_result"
    }
   ],
   "source": [
    "len(letters)"
   ]
  },
  {
   "cell_type": "code",
   "execution_count": 21,
   "metadata": {},
   "outputs": [
    {
     "data": {
      "text/plain": [
       "[['a', 'b', 'c'], [1, 2, 3]]"
      ]
     },
     "execution_count": 21,
     "metadata": {},
     "output_type": "execute_result"
    }
   ],
   "source": [
    "#nested lists\n",
    "\n",
    "a = ['a', 'b', 'c']\n",
    "n = [1, 2, 3]\n",
    "\n",
    "x = [a,n]\n",
    "x"
   ]
  },
  {
   "cell_type": "code",
   "execution_count": 22,
   "metadata": {},
   "outputs": [
    {
     "data": {
      "text/plain": [
       "['a', 'b', 'c']"
      ]
     },
     "execution_count": 22,
     "metadata": {},
     "output_type": "execute_result"
    }
   ],
   "source": [
    "x[0]"
   ]
  },
  {
   "cell_type": "code",
   "execution_count": 25,
   "metadata": {},
   "outputs": [
    {
     "data": {
      "text/plain": [
       "'b'"
      ]
     },
     "execution_count": 25,
     "metadata": {},
     "output_type": "execute_result"
    }
   ],
   "source": [
    "x[0][1]"
   ]
  },
  {
   "cell_type": "code",
   "execution_count": 1,
   "metadata": {},
   "outputs": [
    {
     "name": "stdout",
     "output_type": "stream",
     "text": [
      "4\n",
      "1\n",
      "1\n",
      "0\n",
      "5\n",
      "0\n",
      "2\n",
      "0\n",
      "3\n"
     ]
    }
   ],
   "source": [
    "arr = [[4, 1, 1], \n",
    "      [0, 5, 0], \n",
    "      [2, 0, 3]]\n",
    "\n",
    "\n",
    "for i in range(len(arr)):\n",
    "    for j in range(len(arr)):\n",
    "        \n",
    "        print(arr[i][j])"
   ]
  },
  {
   "cell_type": "code",
   "execution_count": 1,
   "metadata": {},
   "outputs": [
    {
     "name": "stdout",
     "output_type": "stream",
     "text": [
      "0\n",
      "1\n",
      "1\n",
      "2\n",
      "0\n",
      "5\n",
      "0\n",
      "0\n",
      "2\n",
      "0\n",
      "3\n",
      "3\n"
     ]
    }
   ],
   "source": [
    "matrix = [[0, 1, 1, 2], \n",
    "      [0, 5, 0, 0], \n",
    "      [2, 0, 3, 3]]\n",
    "\n",
    "\n",
    "for row in range(len(matrix)):\n",
    "    for col in range(len(matrix[row])):\n",
    "        print (matrix[row][col])"
   ]
  },
  {
   "cell_type": "code",
   "execution_count": 2,
   "metadata": {},
   "outputs": [
    {
     "name": "stdout",
     "output_type": "stream",
     "text": [
      "0 0 0 0\n",
      "0 1 1 1\n",
      "0 2 1 1\n",
      "0 3 2 2\n",
      "1 0 0 0\n",
      "1 1 5 5\n",
      "1 2 0 0\n",
      "1 3 0 0\n",
      "2 0 2 2\n",
      "2 1 0 0\n",
      "2 2 3 3\n",
      "2 3 3 3\n"
     ]
    }
   ],
   "source": [
    "for i1, inner_matrix in enumerate(matrix):\n",
    "    for i2, element in enumerate(inner_matrix):\n",
    "        print (i1, i2, element, matrix[i1][i2])  "
   ]
  },
  {
   "cell_type": "code",
   "execution_count": 28,
   "metadata": {},
   "outputs": [
    {
     "name": "stdout",
     "output_type": "stream",
     "text": [
      "Please enter an integer: 12\n"
     ]
    }
   ],
   "source": [
    "# Control Flow\n",
    "\n",
    "x = int(input(\"Please enter an integer: \"))"
   ]
  },
  {
   "cell_type": "code",
   "execution_count": null,
   "metadata": {
    "collapsed": true
   },
   "outputs": [],
   "source": [
    "if // elif // else"
   ]
  },
  {
   "cell_type": "code",
   "execution_count": 34,
   "metadata": {},
   "outputs": [
    {
     "name": "stdout",
     "output_type": "stream",
     "text": [
      "cat 3\n",
      "window 6\n",
      "defenestrate 12\n"
     ]
    }
   ],
   "source": [
    "words = ['cat', 'window', 'defenestrate']\n",
    "\n",
    "for w in words:\n",
    "    print(w, len(w))"
   ]
  },
  {
   "cell_type": "code",
   "execution_count": 35,
   "metadata": {},
   "outputs": [
    {
     "data": {
      "text/plain": [
       "['defenestrate', 'cat', 'window', 'defenestrate']"
      ]
     },
     "execution_count": 35,
     "metadata": {},
     "output_type": "execute_result"
    }
   ],
   "source": [
    "for w in words[:]:     # Loop over a slice copy of the entire list\n",
    "    if len(w) > 6:\n",
    "        words.insert(0, w)\n",
    "        \n",
    "words      "
   ]
  },
  {
   "cell_type": "code",
   "execution_count": 36,
   "metadata": {},
   "outputs": [
    {
     "name": "stdout",
     "output_type": "stream",
     "text": [
      "0\n",
      "1\n",
      "2\n",
      "3\n",
      "4\n"
     ]
    }
   ],
   "source": [
    "for i in range(5):\n",
    "    print (i)"
   ]
  },
  {
   "cell_type": "code",
   "execution_count": null,
   "metadata": {
    "collapsed": true
   },
   "outputs": [],
   "source": [
    "range(5, 10)\n",
    "   5 through 9\n",
    "\n",
    "range(0, 10, 3)\n",
    "   0, 3, 6, 9\n",
    "\n",
    "range(-10, -100, -30)\n",
    "  -10, -40, -70"
   ]
  },
  {
   "cell_type": "code",
   "execution_count": 38,
   "metadata": {},
   "outputs": [
    {
     "data": {
      "text/plain": [
       "[0, 1, 2, 3, 4]"
      ]
     },
     "execution_count": 38,
     "metadata": {},
     "output_type": "execute_result"
    }
   ],
   "source": [
    "list(range(5))"
   ]
  },
  {
   "cell_type": "code",
   "execution_count": 39,
   "metadata": {},
   "outputs": [
    {
     "name": "stdout",
     "output_type": "stream",
     "text": [
      "0 1 1 2 3 5 8 13 21 34 55 89 144 233 377 610 987 1597 \n"
     ]
    }
   ],
   "source": [
    "# Functions\n",
    "\n",
    "def fib(n):    # write Fibonacci series up to n\n",
    "\n",
    "     a, b = 0, 1\n",
    "     while a < n:\n",
    "         print(a, end=' ')\n",
    "         a, b = b, a+b\n",
    "     print()\n",
    "\n",
    "fib(2000)"
   ]
  },
  {
   "cell_type": "code",
   "execution_count": 41,
   "metadata": {},
   "outputs": [
    {
     "name": "stdout",
     "output_type": "stream",
     "text": [
      "0 1 1 2 3 5 8 13 21 34 55 89 \n"
     ]
    }
   ],
   "source": [
    "f = fib\n",
    "f(100)"
   ]
  },
  {
   "cell_type": "code",
   "execution_count": 42,
   "metadata": {},
   "outputs": [
    {
     "data": {
      "text/plain": [
       "[0, 1, 1, 2, 3, 5, 8, 13, 21, 34, 55, 89]"
      ]
     },
     "execution_count": 42,
     "metadata": {},
     "output_type": "execute_result"
    }
   ],
   "source": [
    "def fib2(n):  # return Fibonacci series up to n using a list\n",
    "\n",
    "     result = []\n",
    "     a, b = 0, 1\n",
    "     while a < n:\n",
    "         result.append(a)    # same as result = result + [a]\n",
    "         a, b = b, a+b\n",
    "     return result\n",
    "\n",
    "f100 = fib2(100)    \n",
    "f100"
   ]
  },
  {
   "cell_type": "code",
   "execution_count": 2,
   "metadata": {},
   "outputs": [
    {
     "data": {
      "text/plain": [
       "'KONSTANTINOS'"
      ]
     },
     "execution_count": 2,
     "metadata": {},
     "output_type": "execute_result"
    }
   ],
   "source": [
    "mystr = 'konstantinos'\n",
    "mystr.upper()"
   ]
  },
  {
   "cell_type": "code",
   "execution_count": 46,
   "metadata": {
    "collapsed": true
   },
   "outputs": [],
   "source": [
    "def ask_ok(prompt, retries=4, reminder='Please try again!'):\n",
    "    while True:\n",
    "        ok = input(prompt)\n",
    "        if ok in ('y', 'ye', 'yes'):\n",
    "            return True\n",
    "        if ok in ('n', 'no', 'nop', 'nope'):\n",
    "            return False\n",
    "        retries = retries - 1\n",
    "        if retries < 0:\n",
    "            raise ValueError('invalid user response')\n",
    "        print(reminder)"
   ]
  },
  {
   "cell_type": "code",
   "execution_count": 48,
   "metadata": {},
   "outputs": [
    {
     "name": "stdout",
     "output_type": "stream",
     "text": [
      "Do you really want to quit?n\n"
     ]
    },
    {
     "data": {
      "text/plain": [
       "False"
      ]
     },
     "execution_count": 48,
     "metadata": {},
     "output_type": "execute_result"
    }
   ],
   "source": [
    "ask_ok('Do you really want to quit?')"
   ]
  },
  {
   "cell_type": "code",
   "execution_count": 50,
   "metadata": {},
   "outputs": [
    {
     "name": "stdout",
     "output_type": "stream",
     "text": [
      "OK to overwrite the file?yea\n",
      "Come on, only yes or no!\n",
      "OK to overwrite the file?yes\n"
     ]
    },
    {
     "data": {
      "text/plain": [
       "True"
      ]
     },
     "execution_count": 50,
     "metadata": {},
     "output_type": "execute_result"
    }
   ],
   "source": [
    "ask_ok('OK to overwrite the file?', 2, 'Come on, only yes or no!')"
   ]
  },
  {
   "cell_type": "code",
   "execution_count": 51,
   "metadata": {},
   "outputs": [
    {
     "name": "stdout",
     "output_type": "stream",
     "text": [
      "-- Do you have any Limburger ?\n",
      "-- I'm sorry, we're all out of Limburger\n",
      "It's very runny, sir.\n",
      "It's really very, VERY runny, sir.\n",
      "----------------------------------------\n",
      "shopkeeper : Michael Palin\n",
      "client : John Cleese\n",
      "sketch : Cheese Shop Sketch\n"
     ]
    }
   ],
   "source": [
    "# Keyword Arguments\n",
    "\n",
    "def cheeseshop(kind, *arguments, **keywords):\n",
    "    print(\"-- Do you have any\", kind, \"?\")\n",
    "    print(\"-- I'm sorry, we're all out of\", kind)\n",
    "    for arg in arguments:\n",
    "        print(arg)\n",
    "    print(\"-\" * 40)\n",
    "    for kw in keywords:\n",
    "        print(kw, \":\", keywords[kw])\n",
    "        \n",
    "        \n",
    "cheeseshop(\"Limburger\", \"It's very runny, sir.\",\n",
    "           \"It's really very, VERY runny, sir.\",\n",
    "           shopkeeper=\"Michael Palin\",\n",
    "           client=\"John Cleese\",\n",
    "           sketch=\"Cheese Shop Sketch\")        "
   ]
  },
  {
   "cell_type": "code",
   "execution_count": 54,
   "metadata": {},
   "outputs": [
    {
     "data": {
      "text/plain": [
       "'earth.mars.venus'"
      ]
     },
     "execution_count": 54,
     "metadata": {},
     "output_type": "execute_result"
    }
   ],
   "source": [
    "def concat(*args, sep=\"/\"):\n",
    "     return sep.join(args)\n",
    "\n",
    "concat(\"earth\", \"mars\", \"venus\")            # prints 'earth/mars/venus'\n",
    "concat(\"earth\", \"mars\", \"venus\", sep=\".\")"
   ]
  },
  {
   "cell_type": "code",
   "execution_count": 55,
   "metadata": {},
   "outputs": [
    {
     "data": {
      "text/plain": [
       "[3, 4, 5]"
      ]
     },
     "execution_count": 55,
     "metadata": {},
     "output_type": "execute_result"
    }
   ],
   "source": [
    "list(range(3,6))"
   ]
  },
  {
   "cell_type": "code",
   "execution_count": 56,
   "metadata": {},
   "outputs": [
    {
     "data": {
      "text/plain": [
       "[3, 4, 5]"
      ]
     },
     "execution_count": 56,
     "metadata": {},
     "output_type": "execute_result"
    }
   ],
   "source": [
    "args = [3, 6]\n",
    "list(range(*args))"
   ]
  },
  {
   "cell_type": "code",
   "execution_count": 57,
   "metadata": {},
   "outputs": [
    {
     "name": "stdout",
     "output_type": "stream",
     "text": [
      "-- This parrot wouldn't VOOM if you put four million volts through it. E's bleedin' demised !\n"
     ]
    }
   ],
   "source": [
    "def parrot(voltage, state='a stiff', action='voom'):\n",
    "     print(\"-- This parrot wouldn't\", action, end=' ')\n",
    "     print(\"if you put\", voltage, \"volts through it.\", end=' ')\n",
    "     print(\"E's\", state, \"!\")\n",
    "\n",
    "d = {\"voltage\": \"four million\", \"state\": \"bleedin' demised\", \"action\": \"VOOM\"}\n",
    "parrot(**d)"
   ]
  },
  {
   "cell_type": "code",
   "execution_count": null,
   "metadata": {
    "collapsed": true
   },
   "outputs": [],
   "source": [
    "# Lambda Expressions  (Small anonymous functions)\n",
    "\n",
    "def make_incrementor(n):\n",
    "     return lambda x: x + n\n",
    "\n",
    "f = make_incrementor(42)\n",
    "f(0)   # prints 42\n",
    "f(1)   # prints 43"
   ]
  },
  {
   "cell_type": "code",
   "execution_count": 78,
   "metadata": {},
   "outputs": [
    {
     "data": {
      "text/plain": [
       "[(4, 'four'), (1, 'one'), (3, 'three'), (2, 'two')]"
      ]
     },
     "execution_count": 78,
     "metadata": {},
     "output_type": "execute_result"
    }
   ],
   "source": [
    "pairs = [(1, 'one'), (2, 'two'), (3, 'three'), (4, 'four')]\n",
    "pairs.sort(key=lambda pair: pair[1])\n",
    "pairs"
   ]
  },
  {
   "cell_type": "code",
   "execution_count": 81,
   "metadata": {},
   "outputs": [
    {
     "name": "stdout",
     "output_type": "stream",
     "text": [
      "Do nothing, but document it. \n",
      "        \n",
      "     No, really, it doesn't do anything.\n",
      "     \n"
     ]
    }
   ],
   "source": [
    "def my_function():\n",
    "     \"\"\"Do nothing, but document it. \n",
    "        \n",
    "     No, really, it doesn't do anything.\n",
    "     \"\"\"\n",
    "     pass\n",
    "\n",
    "print(my_function.__doc__)"
   ]
  },
  {
   "cell_type": "code",
   "execution_count": null,
   "metadata": {
    "collapsed": true
   },
   "outputs": [],
   "source": [
    "# Data Structures\n",
    "\n",
    "list.append(x)\n",
    "#Add an item to the end of the list. Equivalent to a[len(a):] = [x].\n",
    "\n",
    "list.extend(iterable)\n",
    "#Extend the list by appending all the items from the iterable. Equivalent to a[len(a):] = iterable.\n",
    "#list1 = list1 + list2 -> list1.extend(list2) \n",
    "\n",
    "list.insert(i, x)\n",
    "#Insert an item at a given position. The first argument is the index of the element.\n",
    "\n",
    "list.remove(x)\n",
    "#Remove the first item from the list whose value is x. It is an error if there is no such item.\n",
    "\n",
    "list.pop([i])    # list1.pop(3) --> removes the item in the 4th position\n",
    "#Remove the item at the given position in the list, and return it. \n",
    "#If no index is specified, a.pop() removes and returns the last item in the list. \n",
    "\n",
    "list.clear()\n",
    "#Remove all items from the list. Equivalent to del a[:].\n",
    "\n",
    "list.index(x[, start[, end]])\n",
    "#Return zero-based index in the list of the first item whose value is x. Raises a ValueError if there is no such item.\n",
    "\n",
    "list.count(x)\n",
    "#Return the number of times x appears in the list.\n",
    "\n",
    "list.sort(key=None, reverse=False)\n",
    "#Sort the items of the list in place (the arguments can be used for sort customization, see sorted() for their explanation).\n",
    "\n",
    "list.reverse()\n",
    "#Reverse the elements of the list in place.\n",
    "\n",
    "list.copy()\n",
    "#Return a shallow copy of the list. Equivalent to a[:]."
   ]
  },
  {
   "cell_type": "code",
   "execution_count": 99,
   "metadata": {},
   "outputs": [
    {
     "data": {
      "text/plain": [
       "[0, 1, 4, 9, 16, 25, 36, 49, 64, 81]"
      ]
     },
     "execution_count": 99,
     "metadata": {},
     "output_type": "execute_result"
    }
   ],
   "source": [
    "# List Comprehensions     --> appends in list\n",
    "\n",
    "\n",
    "squares = []\n",
    "for x in range(10):\n",
    "    squares.append(x**2)\n",
    "\n",
    "squares\n",
    "\n",
    "-----------------------------------------------------\n",
    "\n",
    "squares = [x**2 for x in range(10)]\n",
    "squares"
   ]
  },
  {
   "cell_type": "code",
   "execution_count": null,
   "metadata": {
    "collapsed": true
   },
   "outputs": [],
   "source": [
    "def makeArrayConsecutive2(statues):\n",
    "    k=0\n",
    "    for i in range(min(statues), max(statues)):\n",
    "        if i not in statues:\n",
    "            k+=1\n",
    "    return k    \n",
    "\n",
    "----------------------------------------------------------\n",
    "\n",
    "def makeArrayConsecutive2(statues):\n",
    "    return sum([1 for i in range(min(statues), max(statues)) if i not in statues])"
   ]
  },
  {
   "cell_type": "code",
   "execution_count": 103,
   "metadata": {},
   "outputs": [
    {
     "data": {
      "text/plain": [
       "[(1, 3), (1, 4), (2, 3), (2, 1), (2, 4), (3, 1), (3, 4)]"
      ]
     },
     "execution_count": 103,
     "metadata": {},
     "output_type": "execute_result"
    }
   ],
   "source": [
    "combs = [] \n",
    "for x in [1,2,3]:\n",
    "    for y in [3,1,4]:\n",
    "        if x != y:\n",
    "            combs.append((x, y))\n",
    "combs\n",
    "\n",
    "-------------------------------------------------------\n",
    "\n",
    "combs = [(x, y) for x in [1,2,3] for y in [3,1,4] if x != y]\n",
    "combs"
   ]
  },
  {
   "cell_type": "code",
   "execution_count": null,
   "metadata": {
    "collapsed": true
   },
   "outputs": [],
   "source": [
    "vec = [-4, -2, 0, 2, 4]\n",
    "\n",
    "[x*2 for x in vec]\n",
    ">> [-8, -4, 0, 4, 8]\n",
    "\n",
    "# filter the list to exclude negative numbers\n",
    "[x for x in vec if x >= 0]\n",
    ">> [0, 2, 4]\n",
    "\n",
    "# apply a function to all the elements\n",
    "[abs(x) for x in vec]\n",
    ">> [4, 2, 0, 2, 4]\n",
    "\n",
    "# call a method on each element\n",
    "freshfruit = ['  banana', '  loganberry ', 'passion fruit  ']\n",
    "[weapon.strip() for weapon in freshfruit]\n",
    ">> ['banana', 'loganberry', 'passion fruit']  #afairei mono apo ta akra tou string\n",
    "\n",
    "# create a list of 2-tuples like (number, square)\n",
    "[(x, x**2) for x in range(6)]\n",
    ">> [(0, 0), (1, 1), (2, 4), (3, 9), (4, 16), (5, 25)]\n",
    "# the tuple must be parenthesized, otherwise an error is raised\n",
    "\n",
    "# flatten a list using a listcomp with two 'for'\n",
    "vec = [[1,2,3], [4,5,6], [7,8,9]]\n",
    "[num for elem in vec for num in elem]\n",
    ">> [1, 2, 3, 4, 5, 6, 7, 8, 9]\n",
    "\n",
    "from math import pi\n",
    "[str(round(pi, i)) for i in range(1, 6)]\n",
    ">> ['3.1', '3.14', '3.142', '3.1416', '3.14159']"
   ]
  },
  {
   "cell_type": "code",
   "execution_count": 113,
   "metadata": {},
   "outputs": [
    {
     "data": {
      "text/plain": [
       "[[1, 2, 3, 4], [5, 6, 7, 8], [9, 10, 11, 12]]"
      ]
     },
     "execution_count": 113,
     "metadata": {},
     "output_type": "execute_result"
    }
   ],
   "source": [
    "# Nested List Comprehensions\n",
    "\n",
    "matrix = [\n",
    "     [1, 2, 3, 4],\n",
    "     [5, 6, 7, 8],\n",
    "    [9, 10, 11, 12],\n",
    " ]\n",
    "matrix"
   ]
  },
  {
   "cell_type": "code",
   "execution_count": 116,
   "metadata": {},
   "outputs": [
    {
     "data": {
      "text/plain": [
       "[(1, 5, 9), (2, 6, 10), (3, 7, 11), (4, 8, 12)]"
      ]
     },
     "execution_count": 116,
     "metadata": {},
     "output_type": "execute_result"
    }
   ],
   "source": [
    "# Transpose rows and cols\n",
    "\n",
    "transposed = []\n",
    "for i in range(4):\n",
    "    transposed.append([row[i] for row in matrix])\n",
    "    \n",
    "transposed\n",
    "-------------------------------------------------------    \n",
    "    \n",
    "[[row[i] for row in matrix] for i in range(4)]\n",
    "\n",
    "-------------------------------------------------------\n",
    "\n",
    "list(zip(*matrix))\n"
   ]
  },
  {
   "cell_type": "code",
   "execution_count": 3,
   "metadata": {},
   "outputs": [
    {
     "data": {
      "text/plain": [
       "[1, 66.25, 333, 333, 1234.5]"
      ]
     },
     "execution_count": 3,
     "metadata": {},
     "output_type": "execute_result"
    }
   ],
   "source": [
    "a = [-1, 1, 66.25, 333, 333, 1234.5]\n",
    "del a[0]\n",
    "a\n",
    "#del a[:]  -> a = []\n",
    "#del a     -> svinei olo to a"
   ]
  },
  {
   "cell_type": "code",
   "execution_count": 5,
   "metadata": {},
   "outputs": [
    {
     "data": {
      "text/plain": [
       "12345"
      ]
     },
     "execution_count": 5,
     "metadata": {},
     "output_type": "execute_result"
    }
   ],
   "source": [
    "#Tuples\n",
    "\n",
    "t = 12345, 54321, 'hello!'\n",
    "\n",
    "t[0]"
   ]
  },
  {
   "cell_type": "code",
   "execution_count": 7,
   "metadata": {},
   "outputs": [
    {
     "data": {
      "text/plain": [
       "(12345, 54321, 'hello!')"
      ]
     },
     "execution_count": 7,
     "metadata": {},
     "output_type": "execute_result"
    }
   ],
   "source": [
    "t"
   ]
  },
  {
   "cell_type": "code",
   "execution_count": 8,
   "metadata": {},
   "outputs": [
    {
     "data": {
      "text/plain": [
       "((12345, 54321, 'hello!'), (1, 2, 3, 4, 5))"
      ]
     },
     "execution_count": 8,
     "metadata": {},
     "output_type": "execute_result"
    }
   ],
   "source": [
    "# Nested tuples\n",
    "\n",
    "u = t, (1, 2, 3, 4, 5)  \n",
    "u"
   ]
  },
  {
   "cell_type": "code",
   "execution_count": 9,
   "metadata": {},
   "outputs": [
    {
     "data": {
      "text/plain": [
       "([1, 2, 3], [3, 2, 1])"
      ]
     },
     "execution_count": 9,
     "metadata": {},
     "output_type": "execute_result"
    }
   ],
   "source": [
    "v = ([1, 2, 3], [3, 2, 1])\n",
    "v"
   ]
  },
  {
   "cell_type": "code",
   "execution_count": 10,
   "metadata": {},
   "outputs": [
    {
     "data": {
      "text/plain": [
       "{'apple', 'banana', 'orange', 'pear'}"
      ]
     },
     "execution_count": 10,
     "metadata": {},
     "output_type": "execute_result"
    }
   ],
   "source": [
    "# Sets\n",
    "\n",
    "#arxikopoiisi me set() kai oxi me {}\n",
    "\n",
    "basket = {'apple', 'orange', 'apple', 'pear', 'orange', 'banana'}  #afairei ta duplicates otan printaretai\n",
    "basket"
   ]
  },
  {
   "cell_type": "code",
   "execution_count": null,
   "metadata": {
    "collapsed": true
   },
   "outputs": [],
   "source": [
    "a = set('abracadabra')\n",
    "b = set('alacazam')\n",
    "\n",
    "a                                  # unique letters in a\n",
    ">> {'a', 'r', 'b', 'c', 'd'}\n",
    "\n",
    "a - b                              # letters in a but not in b\n",
    ">> {'r', 'd', 'b'}\n",
    "\n",
    "a | b                              # letters in a or b or both\n",
    "{'a', 'c', 'r', 'd', 'b', 'm', 'z', 'l'}\n",
    "\n",
    "a & b                              # letters in both a and b\n",
    ">> {'a', 'c'}\n",
    "\n",
    "a ^ b                              # letters in a or b but not both\n",
    ">> {'r', 'd', 'b', 'm', 'z', 'l'}"
   ]
  },
  {
   "cell_type": "code",
   "execution_count": 13,
   "metadata": {},
   "outputs": [
    {
     "data": {
      "text/plain": [
       "{'d', 'r'}"
      ]
     },
     "execution_count": 13,
     "metadata": {},
     "output_type": "execute_result"
    }
   ],
   "source": [
    "# Set comprehensions\n",
    "\n",
    "a = {x for x in 'abracadabra' if x not in 'abc'}\n",
    "a"
   ]
  },
  {
   "cell_type": "code",
   "execution_count": null,
   "metadata": {
    "collapsed": true
   },
   "outputs": [],
   "source": [
    "# Dictionaries\n",
    "\n",
    "tel = {'jack': 4098, 'sape': 4139}\n",
    "\n",
    "tel['guido'] = 4127\n",
    "\n",
    "tel\n",
    ">> {'sape': 4139, 'guido': 4127, 'jack': 4098}\n",
    "\n",
    "tel['jack']\n",
    ">> 4098\n",
    "\n",
    "del tel['sape']\n",
    "\n",
    "tel['irv'] = 4127\n",
    "tel\n",
    ">> {'guido': 4127, 'irv': 4127, 'jack': 4098}\n",
    "\n",
    "list(tel.keys())\n",
    ">> ['irv', 'guido', 'jack']\n",
    "\n",
    "sorted(tel.keys())\n",
    ">> ['guido', 'irv', 'jack']\n",
    "\n",
    "'guido' in tel\n",
    ">> True\n",
    "\n",
    "'jack' not in tel\n",
    ">> False"
   ]
  },
  {
   "cell_type": "code",
   "execution_count": 14,
   "metadata": {},
   "outputs": [
    {
     "data": {
      "text/plain": [
       "{'guido': 4127, 'jack': 4098, 'sape': 4139}"
      ]
     },
     "execution_count": 14,
     "metadata": {},
     "output_type": "execute_result"
    }
   ],
   "source": [
    "# Using dict() constructor\n",
    "\n",
    "dict([('sape', 4139), ('guido', 4127), ('jack', 4098)])"
   ]
  },
  {
   "cell_type": "code",
   "execution_count": 15,
   "metadata": {},
   "outputs": [
    {
     "data": {
      "text/plain": [
       "{2: 4, 4: 16, 6: 36}"
      ]
     },
     "execution_count": 15,
     "metadata": {},
     "output_type": "execute_result"
    }
   ],
   "source": [
    "# Dict comprehensions\n",
    "\n",
    "{x: x**2 for x in (2, 4, 6)}"
   ]
  },
  {
   "cell_type": "code",
   "execution_count": 16,
   "metadata": {},
   "outputs": [
    {
     "name": "stdout",
     "output_type": "stream",
     "text": [
      "gallahad the pure\n",
      "robin the brave\n"
     ]
    }
   ],
   "source": [
    "# Looping Dictionaries\n",
    "\n",
    "knights = {'gallahad': 'the pure', 'robin': 'the brave'}\n",
    "for k, v in knights.items():\n",
    "    print(k, v)"
   ]
  },
  {
   "cell_type": "code",
   "execution_count": 17,
   "metadata": {},
   "outputs": [
    {
     "name": "stdout",
     "output_type": "stream",
     "text": [
      "0 tic\n",
      "1 tac\n",
      "2 toe\n"
     ]
    }
   ],
   "source": [
    "for i, v in enumerate(['tic', 'tac', 'toe']):\n",
    "    print(i, v)"
   ]
  },
  {
   "cell_type": "code",
   "execution_count": 18,
   "metadata": {},
   "outputs": [
    {
     "name": "stdout",
     "output_type": "stream",
     "text": [
      "What is your name?  It is lancelot.\n",
      "What is your quest?  It is the holy grail.\n",
      "What is your favorite color?  It is blue.\n"
     ]
    }
   ],
   "source": [
    "# the entries can be paired with the zip() function\n",
    "\n",
    "questions = ['name', 'quest', 'favorite color']\n",
    "answers = ['lancelot', 'the holy grail', 'blue']\n",
    "\n",
    "for q, a in zip(questions, answers):\n",
    "    print('What is your {0}?  It is {1}.'.format(q, a))"
   ]
  },
  {
   "cell_type": "code",
   "execution_count": 19,
   "metadata": {},
   "outputs": [
    {
     "name": "stdout",
     "output_type": "stream",
     "text": [
      "apple\n",
      "banana\n",
      "orange\n",
      "pear\n"
     ]
    }
   ],
   "source": [
    "basket = ['apple', 'orange', 'apple', 'pear', 'orange', 'banana']\n",
    "for f in sorted(set(basket)):\n",
    "    print(f)"
   ]
  },
  {
   "cell_type": "code",
   "execution_count": null,
   "metadata": {
    "collapsed": true
   },
   "outputs": [],
   "source": [
    "dir() #mas deixnei ola ta diathesima modules pou mporoume na kalesoume p.x. .age, .name klp"
   ]
  },
  {
   "cell_type": "code",
   "execution_count": 33,
   "metadata": {
    "collapsed": true
   },
   "outputs": [],
   "source": [
    "# Reading and Writing Files\n",
    "\n",
    "f = open('workfile', 'w')\n",
    "\n",
    "'r' -> read\n",
    "'w' -> write\n",
    "'a' -> appending\n",
    "'r+' -> reading and writing\n",
    "\n",
    "f.open()\n",
    "f.close()\n",
    "\n",
    "with open('workfile') as f:\n",
    "     read_data = f.read()\n",
    "f.closed  \n",
    ">> True"
   ]
  },
  {
   "cell_type": "code",
   "execution_count": null,
   "metadata": {
    "collapsed": true
   },
   "outputs": [],
   "source": [
    "f.read()\n",
    ">> 'This is the entire file.\\n'\n",
    "\n",
    "f.readline()\n",
    ">> 'This is the first line of the file.\\n'\n",
    "f.readline()\n",
    ">> 'Second line of the file\\n'\n",
    "\n",
    "for line in f:\n",
    "    print(line, end='')\n",
    "\n",
    ">> This is the first line of the file.\n",
    ">> Second line of the file\n",
    "\n",
    "f.readlines()"
   ]
  },
  {
   "cell_type": "code",
   "execution_count": 34,
   "metadata": {},
   "outputs": [
    {
     "name": "stdout",
     "output_type": "stream",
     "text": [
      "Please enter a number: k\n",
      "Oops!  That was no valid number.  Try again...\n",
      "Please enter a number: 5\n"
     ]
    }
   ],
   "source": [
    "# Errors and Exceptions\n",
    "\n",
    "while True:\n",
    "     try:\n",
    "         x = int(input(\"Please enter a number: \"))\n",
    "         break\n",
    "     except ValueError:\n",
    "         print(\"Oops!  That was no valid number.  Try again...\")"
   ]
  },
  {
   "cell_type": "code",
   "execution_count": null,
   "metadata": {
    "collapsed": true
   },
   "outputs": [],
   "source": [
    "except RuntimeError, TypeError, NameError\n",
    "\n",
    "import sys\n",
    "\n",
    "try:\n",
    "    f = open('myfile.txt')\n",
    "    s = f.readline()\n",
    "    i = int(s.strip())\n",
    "except OSError as err:\n",
    "    print(\"OS error: {0}\".format(err))\n",
    "except ValueError:\n",
    "    print(\"Could not convert data to an integer.\")\n",
    "except:\n",
    "    print(\"Unexpected error:\", sys.exc_info()[0])\n",
    "    raise"
   ]
  },
  {
   "cell_type": "code",
   "execution_count": 43,
   "metadata": {},
   "outputs": [
    {
     "name": "stdout",
     "output_type": "stream",
     "text": [
      "Parent Constructor Called\n",
      "Last Name - Cyrus\n",
      "Eye Color - blue\n",
      "Favorite Team - Olympiakos\n",
      "Child Contructor Called\n",
      "Parent Constructor Called\n",
      "Last Name - Cyrus\n",
      "Eye Color - blue\n",
      "Number of toys 5\n",
      "Favorite Team - Olympiakos\n"
     ]
    }
   ],
   "source": [
    "# Classes                        \n",
    "\n",
    "class Parent():\n",
    "    def __init__(self, last_name, eye_color):      # alliws: self, **kwargs\n",
    "        print (\"Parent Constructor Called\")\n",
    "        self.last_name = last_name\n",
    "        self.eye_color = eye_color\n",
    "        self.fav_team = 'Olympiakos'\n",
    "        \n",
    "    def show_info(self):\n",
    "        print (\"Last Name - \" + self.last_name)\n",
    "        print (\"Eye Color - \" + self.eye_color)\n",
    "        print (\"Favorite Team - \" + self.fav_team)\n",
    "        \n",
    "class Child(Parent):\n",
    "    def __init__(self, last_name, eye_color, number_of_toys):\n",
    "        print (\"Child Contructor Called\")\n",
    "        Parent.__init__(self, last_name, eye_color)\n",
    "        self.number_of_toys = number_of_toys\n",
    "        \n",
    "    def show_info(self):\n",
    "        print (\"Last Name - \" + self.last_name)\n",
    "        print (\"Eye Color - \" + self.eye_color)\n",
    "        print (\"Number of toys \" + str(self.number_of_toys))\n",
    "        print (\"Favorite Team - \" + self.fav_team)\n",
    "        \n",
    "        \n",
    "billy_cyrus = Parent(\"Cyrus\", \"blue\")\n",
    "#dir(billy_cyrus)\n",
    "billy_cyrus.show_info()\n",
    "\n",
    "miley_cyrus = Child(\"Cyrus\", \"blue\", 5)\n",
    "miley_cyrus.show_info()  "
   ]
  },
  {
   "cell_type": "code",
   "execution_count": null,
   "metadata": {
    "collapsed": true
   },
   "outputs": [],
   "source": [
    "# Standard Library\n",
    "\n",
    "import os\n",
    "os.getcwd()      # Return the current working directory\n",
    ">> 'C:\\\\Users\\\\Konstantinos\\\\Desktop'\n",
    "\n",
    "os.chdir('/server/accesslogs')   # Change current working directory\n",
    "os.system('mkdir today')   # Run the command mkdir in the system shell\n",
    "\n",
    "dir(os)\n",
    "help(os)"
   ]
  },
  {
   "cell_type": "code",
   "execution_count": null,
   "metadata": {
    "collapsed": true
   },
   "outputs": [],
   "source": [
    "# Maths\n",
    "\n",
    "import math\n",
    "\n",
    "math.cos(math.pi / 4)\n",
    ">> 0.70710678118654757\n",
    "math.log(1024, 2)\n",
    ">> 10.0"
   ]
  },
  {
   "cell_type": "code",
   "execution_count": null,
   "metadata": {
    "collapsed": true
   },
   "outputs": [],
   "source": [
    "import random\n",
    "\n",
    "random.choice(['apple', 'pear', 'banana'])\n",
    ">> 'apple'\n",
    "\n",
    "random.sample(range(100), 10)   # sampling without replacement\n",
    ">> [30, 83, 16, 4, 8, 81, 41, 50, 18, 33]\n",
    "\n",
    "random.random()    # random float\n",
    ">> 0.17970987693706186\n",
    "\n",
    "random.randrange(6)    # random integer chosen from range(6)\n",
    ">> 4"
   ]
  },
  {
   "cell_type": "code",
   "execution_count": null,
   "metadata": {
    "collapsed": true
   },
   "outputs": [],
   "source": [
    "import statistics\n",
    "\n",
    "data = [2.75, 1.75, 1.25, 0.25, 0.5, 1.25, 3.5]\n",
    "\n",
    "statistics.mean(data)\n",
    ">> 1.6071428571428572\n",
    "\n",
    "statistics.median(data)\n",
    ">> 1.25\n",
    "statistics.variance(data)\n",
    ">> 1.3720238095238095"
   ]
  },
  {
   "cell_type": "code",
   "execution_count": 51,
   "metadata": {},
   "outputs": [
    {
     "name": "stdout",
     "output_type": "stream",
     "text": [
      "<BR>Dec. 11, 02:00:11 PM EST\t\tEastern Time\n",
      "\n"
     ]
    }
   ],
   "source": [
    "# Internet Access\n",
    "\n",
    "from urllib.request import urlopen\n",
    "with urlopen('http://tycho.usno.navy.mil/cgi-bin/timer.pl') as response:\n",
    "    for line in response:\n",
    "        line = line.decode('utf-8')  # Decoding the binary data to text.\n",
    "        if 'EST' in line or 'EDT' in line:  # look for Eastern Time\n",
    "             print(line)"
   ]
  },
  {
   "cell_type": "code",
   "execution_count": null,
   "metadata": {
    "collapsed": true
   },
   "outputs": [],
   "source": [
    "# Dates and Times\n",
    "\n",
    "from datetime import date\n",
    "\n",
    "now = date.today()\n",
    "now\n",
    ">> datetime.date(2003, 12, 2)\n",
    "\n",
    "now.strftime(\"%m-%d-%y. %d %b %Y is a %A on the %d day of %B.\")\n",
    ">> '12-02-03. 02 Dec 2003 is a Tuesday on the 02 day of December.'\n",
    "\n",
    "birthday = date(1964, 7, 31)\n",
    "age = now - birthday\n",
    "age.days\n",
    ">> 14368"
   ]
  },
  {
   "cell_type": "code",
   "execution_count": null,
   "metadata": {
    "collapsed": true
   },
   "outputs": [],
   "source": [
    "# Factory Pattern\n",
    "\n",
    "-> Xwris Factory Pattern\n",
    "\n",
    "\n",
    "class Person():\n",
    "    def __init__(self,name, age):\n",
    "        print (\"Person created!\")\n",
    "        self.age = age\n",
    "        self.name = name  \n",
    "    \n",
    "class Employee(Person):\n",
    "    def __init__(self,name, age):\n",
    "        super(Employee, self).__init__(name,age)\n",
    "\n",
    "class FootballPlayer(Person):\n",
    "    def __init__(self,name, age, team):\n",
    "        super(FootballPlayer, self).__init__(name,age)\n",
    "        self.team = team\n",
    "              \n",
    "\n",
    "person = Employee('Manos Angelidis', 22)\n",
    "print(person.age, person.name)\n",
    "\n",
    "person2 = FootballPlayer('Dusan Bajevic', 42, 'Olympiacos')\n",
    "print(person2.age, person2.name)\n",
    "\n",
    "\n",
    "\n",
    "-> Me Factory Pattern\n",
    "\n",
    "\n",
    "class Person():\n",
    "    def __init__(self,name, age):\n",
    "        print (\"Person created!\")\n",
    "        self.age = age\n",
    "        self.name = name\n",
    "        \n",
    "class Employee(Person):\n",
    "    def __init__(self,name, age):\n",
    "        super(Employee, self).__init__(name,age)\n",
    "\n",
    "class FootballPlayer(Person):\n",
    "    def __init__(self,name, age, team):\n",
    "        super(FootballPlayer, self).__init__(name,age)\n",
    "        self.team = team\n",
    "        \n",
    "class PersonFactory():\n",
    "    def createPerson(self, personType, **kwargs):\n",
    "        if personType == \"FootballPlayer\":\n",
    "            return FootballPlayer(**kwargs)\n",
    "        if personType == \"Employee\":\n",
    "            return Employee(**kwargs)\n",
    "        else:\n",
    "            print(\"Incorrect type given\")\n",
    "            \n",
    "            \n",
    "factory = PersonFactory()\n",
    "k = factory.createPerson('FootballPlayer', name = 'Alexis', age = '43', \n",
    "                         team = 'Syriza')\n",
    "l = factory.createPerson('Employee', name = 'Alexis', age = '43')\n",
    "#print(dir(k))\n",
    "print (k.age + \" \" + k.name + \" \" + k.team)\n",
    "print (l.age + \" \" + l.name)"
   ]
  },
  {
   "cell_type": "code",
   "execution_count": 1,
   "metadata": {},
   "outputs": [],
   "source": [
    "# NumPy\n",
    "\n",
    "import numpy as np"
   ]
  },
  {
   "cell_type": "code",
   "execution_count": null,
   "metadata": {},
   "outputs": [],
   "source": []
  },
  {
   "cell_type": "code",
   "execution_count": null,
   "metadata": {},
   "outputs": [],
   "source": []
  },
  {
   "cell_type": "code",
   "execution_count": null,
   "metadata": {},
   "outputs": [],
   "source": []
  },
  {
   "cell_type": "code",
   "execution_count": null,
   "metadata": {},
   "outputs": [],
   "source": []
  }
 ],
 "metadata": {
  "kernelspec": {
   "display_name": "Python 3",
   "language": "python",
   "name": "python3"
  },
  "language_info": {
   "codemirror_mode": {
    "name": "ipython",
    "version": 3
   },
   "file_extension": ".py",
   "mimetype": "text/x-python",
   "name": "python",
   "nbconvert_exporter": "python",
   "pygments_lexer": "ipython3",
   "version": "3.7.0"
  }
 },
 "nbformat": 4,
 "nbformat_minor": 2
}
