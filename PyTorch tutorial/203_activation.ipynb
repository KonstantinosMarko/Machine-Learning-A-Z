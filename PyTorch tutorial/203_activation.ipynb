{
 "cells": [
  {
   "cell_type": "markdown",
   "metadata": {},
   "source": [
    "# 203 Activation\n",
    "\n",
    "View more, visit my tutorial page: https://morvanzhou.github.io/tutorials/\n",
    "My Youtube Channel: https://www.youtube.com/user/MorvanZhou\n",
    "\n",
    "Dependencies:\n",
    "* torch: 0.1.11\n",
    "* matplotlib\n"
   ]
  },
  {
   "cell_type": "code",
   "execution_count": 2,
   "metadata": {},
   "outputs": [],
   "source": [
    "import torch\n",
    "import torch.nn.functional as F\n",
    "from torch.autograd import Variable\n",
    "import matplotlib.pyplot as plt"
   ]
  },
  {
   "cell_type": "markdown",
   "metadata": {},
   "source": [
    "### Firstly generate some fake data"
   ]
  },
  {
   "cell_type": "code",
   "execution_count": 4,
   "metadata": {},
   "outputs": [
    {
     "name": "stdout",
     "output_type": "stream",
     "text": [
      "tensor([-5.0000, -4.9497, -4.8995, -4.8492, -4.7990, -4.7487, -4.6985, -4.6482,\n",
      "        -4.5980, -4.5477, -4.4975, -4.4472, -4.3970, -4.3467, -4.2965, -4.2462,\n",
      "        -4.1960, -4.1457, -4.0955, -4.0452, -3.9950, -3.9447, -3.8945, -3.8442,\n",
      "        -3.7940, -3.7437, -3.6935, -3.6432, -3.5930, -3.5427, -3.4925, -3.4422,\n",
      "        -3.3920, -3.3417, -3.2915, -3.2412, -3.1910, -3.1407, -3.0905, -3.0402,\n",
      "        -2.9899, -2.9397, -2.8894, -2.8392, -2.7889, -2.7387, -2.6884, -2.6382,\n",
      "        -2.5879, -2.5377, -2.4874, -2.4372, -2.3869, -2.3367, -2.2864, -2.2362,\n",
      "        -2.1859, -2.1357, -2.0854, -2.0352, -1.9849, -1.9347, -1.8844, -1.8342,\n",
      "        -1.7839, -1.7337, -1.6834, -1.6332, -1.5829, -1.5327, -1.4824, -1.4322,\n",
      "        -1.3819, -1.3317, -1.2814, -1.2312, -1.1809, -1.1307, -1.0804, -1.0302,\n",
      "        -0.9799, -0.9296, -0.8794, -0.8291, -0.7789, -0.7286, -0.6784, -0.6281,\n",
      "        -0.5779, -0.5276, -0.4774, -0.4271, -0.3769, -0.3266, -0.2764, -0.2261,\n",
      "        -0.1759, -0.1256, -0.0754, -0.0251,  0.0251,  0.0754,  0.1256,  0.1759,\n",
      "         0.2261,  0.2764,  0.3266,  0.3769,  0.4271,  0.4774,  0.5276,  0.5779,\n",
      "         0.6281,  0.6784,  0.7286,  0.7789,  0.8291,  0.8794,  0.9296,  0.9799,\n",
      "         1.0302,  1.0804,  1.1307,  1.1809,  1.2312,  1.2814,  1.3317,  1.3819,\n",
      "         1.4322,  1.4824,  1.5327,  1.5829,  1.6332,  1.6834,  1.7337,  1.7839,\n",
      "         1.8342,  1.8844,  1.9347,  1.9849,  2.0352,  2.0854,  2.1357,  2.1859,\n",
      "         2.2362,  2.2864,  2.3367,  2.3869,  2.4372,  2.4874,  2.5377,  2.5879,\n",
      "         2.6382,  2.6884,  2.7387,  2.7889,  2.8392,  2.8894,  2.9397,  2.9899,\n",
      "         3.0402,  3.0905,  3.1407,  3.1910,  3.2412,  3.2915,  3.3417,  3.3920,\n",
      "         3.4422,  3.4925,  3.5427,  3.5930,  3.6432,  3.6935,  3.7437,  3.7940,\n",
      "         3.8442,  3.8945,  3.9447,  3.9950,  4.0452,  4.0955,  4.1457,  4.1960,\n",
      "         4.2462,  4.2965,  4.3467,  4.3970,  4.4472,  4.4975,  4.5477,  4.5980,\n",
      "         4.6482,  4.6985,  4.7487,  4.7990,  4.8492,  4.8995,  4.9497,  5.0000])\n",
      "[-5.         -4.9497485  -4.8994975  -4.849246   -4.798995   -4.7487435\n",
      " -4.6984925  -4.648241   -4.59799    -4.5477386  -4.4974875  -4.447236\n",
      " -4.396985   -4.3467336  -4.2964826  -4.246231   -4.19598    -4.1457286\n",
      " -4.0954776  -4.045226   -3.9949749  -3.9447236  -3.8944724  -3.844221\n",
      " -3.7939699  -3.7437186  -3.6934674  -3.6432161  -3.5929646  -3.5427136\n",
      " -3.4924622  -3.4422112  -3.3919597  -3.3417087  -3.2914572  -3.2412062\n",
      " -3.1909547  -3.1407037  -3.0904522  -3.040201   -2.9899497  -2.9396985\n",
      " -2.8894472  -2.839196   -2.7889447  -2.7386935  -2.6884422  -2.638191\n",
      " -2.5879397  -2.5376885  -2.4874372  -2.437186   -2.3869348  -2.3366835\n",
      " -2.286432   -2.2361808  -2.1859295  -2.1356783  -2.085427   -2.0351758\n",
      " -1.9849246  -1.9346733  -1.8844221  -1.8341708  -1.7839196  -1.7336683\n",
      " -1.6834171  -1.6331658  -1.5829146  -1.5326633  -1.4824121  -1.4321609\n",
      " -1.3819096  -1.3316584  -1.2814071  -1.2311556  -1.1809044  -1.1306531\n",
      " -1.0804019  -1.0301507  -0.9798994  -0.9296484  -0.8793969  -0.8291459\n",
      " -0.7788944  -0.7286434  -0.67839193 -0.62814045 -0.57788944 -0.52763796\n",
      " -0.47738695 -0.42713547 -0.37688446 -0.32663298 -0.27638197 -0.22613049\n",
      " -0.17587948 -0.125628   -0.07537699 -0.0251255   0.0251255   0.07537699\n",
      "  0.125628    0.17587948  0.22613049  0.27638197  0.32663298  0.37688446\n",
      "  0.42713594  0.47738695  0.52763844  0.57788944  0.6281409   0.67839193\n",
      "  0.7286434   0.7788944   0.8291459   0.8793969   0.9296484   0.9798994\n",
      "  1.0301509   1.0804019   1.1306534   1.1809044   1.2311559   1.2814069\n",
      "  1.3316584   1.3819094   1.4321609   1.4824123   1.5326633   1.5829148\n",
      "  1.6331658   1.6834173   1.7336683   1.7839198   1.8341708   1.8844223\n",
      "  1.9346733   1.9849248   2.0351758   2.0854273   2.1356783   2.1859298\n",
      "  2.2361808   2.2864323   2.3366833   2.3869348   2.4371858   2.4874372\n",
      "  2.5376887   2.5879397   2.6381912   2.6884422   2.7386937   2.7889447\n",
      "  2.8391962   2.8894472   2.9396987   2.9899497   3.0402012   3.0904522\n",
      "  3.1407032   3.1909552   3.2412062   3.2914572   3.3417082   3.3919601\n",
      "  3.4422112   3.4924622   3.5427132   3.5929651   3.6432161   3.6934671\n",
      "  3.743719    3.79397     3.844221    3.8944721   3.944724    3.994975\n",
      "  4.045226    4.095477    4.145729    4.19598     4.246231    4.296482\n",
      "  4.346734    4.396985    4.447236    4.497487    4.547739    4.59799\n",
      "  4.648241    4.698493    4.748744    4.798995    4.849246    4.899498\n",
      "  4.949749    5.        ]\n"
     ]
    }
   ],
   "source": [
    "x = torch.linspace(-5, 5, 200)  # x data (tensor), shape=(200, 1)\n",
    "x = Variable(x)\n",
    "x_np = x.data.numpy()   # numpy array for plotting\n",
    "print(x)\n",
    "print(x_np)"
   ]
  },
  {
   "cell_type": "markdown",
   "metadata": {},
   "source": [
    "### Following are popular activation functions"
   ]
  },
  {
   "cell_type": "code",
   "execution_count": 6,
   "metadata": {},
   "outputs": [],
   "source": [
    "y_relu = F.relu(x).data.numpy()\n",
    "y_sigmoid = F.sigmoid(x).data.numpy()\n",
    "y_tanh = F.tanh(x).data.numpy()\n",
    "y_softplus = F.softplus(x).data.numpy()\n",
    "\n",
    "# y_softmax = F.softmax(x)\n",
    "# softmax is a special kind of activation function, it is about probability\n",
    "# and will make the sum as 1."
   ]
  },
  {
   "cell_type": "markdown",
   "metadata": {},
   "source": [
    "### Plot to visualize these activation function"
   ]
  },
  {
   "cell_type": "code",
   "execution_count": 5,
   "metadata": {
    "collapsed": true
   },
   "outputs": [],
   "source": [
    "%matplotlib inline"
   ]
  },
  {
   "cell_type": "code",
   "execution_count": 7,
   "metadata": {},
   "outputs": [
    {
     "data": {
      "image/png": "[encoded data removed]",
      "text/plain": [
       "<matplotlib.figure.Figure at 0x7f5f99d757b8>"
      ]
     },
     "metadata": {},
     "output_type": "display_data"
    }
   ],
   "source": [
    "plt.figure(1, figsize=(8, 6))\n",
    "plt.subplot(221)\n",
    "plt.plot(x_np, y_relu, c='red', label='relu')\n",
    "plt.ylim((-1, 5))\n",
    "plt.legend(loc='best')\n",
    "\n",
    "plt.subplot(222)\n",
    "plt.plot(x_np, y_sigmoid, c='red', label='sigmoid')\n",
    "plt.ylim((-0.2, 1.2))\n",
    "plt.legend(loc='best')\n",
    "\n",
    "plt.subplot(223)\n",
    "plt.plot(x_np, y_tanh, c='red', label='tanh')\n",
    "plt.ylim((-1.2, 1.2))\n",
    "plt.legend(loc='best')\n",
    "\n",
    "plt.subplot(224)\n",
    "plt.plot(x_np, y_softplus, c='red', label='softplus')\n",
    "plt.ylim((-0.2, 6))\n",
    "plt.legend(loc='best')\n",
    "\n",
    "plt.show()"
   ]
  },
  {
   "cell_type": "code",
   "execution_count": null,
   "metadata": {
    "collapsed": true
   },
   "outputs": [],
   "source": []
  }
 ],
 "metadata": {
  "kernelspec": {
   "display_name": "Python 3",
   "language": "python",
   "name": "python3"
  },
  "language_info": {
   "codemirror_mode": {
    "name": "ipython",
    "version": 3
   },
   "file_extension": ".py",
   "mimetype": "text/x-python",
   "name": "python",
   "nbconvert_exporter": "python",
   "pygments_lexer": "ipython3",
   "version": "3.6.6"
  }
 },
 "nbformat": 4,
 "nbformat_minor": 2
}
